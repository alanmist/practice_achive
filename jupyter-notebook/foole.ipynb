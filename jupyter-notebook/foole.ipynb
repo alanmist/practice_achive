{
 "cells": [
  {
   "cell_type": "code",
   "execution_count": 53,
   "id": "62b690ee-44e6-42fe-9c48-07d965494e69",
   "metadata": {},
   "outputs": [],
   "source": [
    "f=open('file.txt','w+')\n",
    "f.write('this is just an example')\n",
    "f.close()"
   ]
  },
  {
   "cell_type": "code",
   "execution_count": 54,
   "id": "ab9552ae-225a-4731-b68e-18153608b278",
   "metadata": {},
   "outputs": [
    {
     "data": {
      "text/plain": [
       "('foole', '.ipynb')"
      ]
     },
     "execution_count": 54,
     "metadata": {},
     "output_type": "execute_result"
    }
   ],
   "source": [
    "import os\n",
    "import shutil\n",
    "os.listdir()\n",
    "os.path.splitext('foole.ipynb')\n",
    "\n"
   ]
  },
  {
   "cell_type": "code",
   "execution_count": 4,
   "id": "04266d7d-332f-4bd6-85fb-308be10aede5",
   "metadata": {},
   "outputs": [
    {
     "ename": "_IncompleteInputError",
     "evalue": "incomplete input (1641625926.py, line 1)",
     "output_type": "error",
     "traceback": [
      "\u001b[1;36m  Cell \u001b[1;32mIn[4], line 1\u001b[1;36m\u001b[0m\n\u001b[1;33m    help(os.makedirs\u001b[0m\n\u001b[1;37m                    ^\u001b[0m\n\u001b[1;31m_IncompleteInputError\u001b[0m\u001b[1;31m:\u001b[0m incomplete input\n"
     ]
    }
   ],
   "source": [
    "help(os.makedirs"
   ]
  },
  {
   "cell_type": "code",
   "execution_count": 5,
   "id": "448514b1-3363-4a1a-a6d6-eeeb727d606d",
   "metadata": {},
   "outputs": [],
   "source": [
    "os.makedirs('C:\\\\Users\\\\hswap\\\\OneDrive\\\\Desktop\\\\python\\\\file mange\\\\new file\\\\much_new', exist_ok=True)"
   ]
  },
  {
   "cell_type": "code",
   "execution_count": 6,
   "id": "807c698f-9afe-472a-8989-8ca2282b2097",
   "metadata": {},
   "outputs": [
    {
     "ename": "SyntaxError",
     "evalue": "invalid syntax (1690411367.py, line 1)",
     "output_type": "error",
     "traceback": [
      "\u001b[1;36m  Cell \u001b[1;32mIn[6], line 1\u001b[1;36m\u001b[0m\n\u001b[1;33m    os.\u001b[0m\n\u001b[1;37m       ^\u001b[0m\n\u001b[1;31mSyntaxError\u001b[0m\u001b[1;31m:\u001b[0m invalid syntax\n"
     ]
    }
   ],
   "source": [
    "os."
   ]
  },
  {
   "cell_type": "code",
   "execution_count": 15,
   "id": "c16bd614-2ba9-4fa0-abdb-249d770249af",
   "metadata": {},
   "outputs": [
    {
     "name": "stdout",
     "output_type": "stream",
     "text": [
      "this is C:\\Users\\hswap\\OneDrive\\Desktop\\python\\file mange:['.ipynb_checkpoints', 'new file']\n",
      "\n",
      "\n",
      "this is:.ipynb_checkpoints\n",
      "this is:new file\n",
      "\n",
      "\n",
      "this is :file.txt\n",
      "this is :foole.ipynb\n",
      "this is :untitled.docx\n",
      "this is :untitled.jpg\n",
      "this is :untitled.pdf\n",
      "\n",
      "\n",
      "this is C:\\Users\\hswap\\OneDrive\\Desktop\\python\\file mange\\.ipynb_checkpoints:[]\n",
      "\n",
      "\n",
      "\n",
      "\n",
      "this is :file-checkpoint.txt\n",
      "this is :foole-checkpoint.ipynb\n",
      "\n",
      "\n",
      "this is C:\\Users\\hswap\\OneDrive\\Desktop\\python\\file mange\\new file:['much_new']\n",
      "\n",
      "\n",
      "this is:much_new\n",
      "\n",
      "\n",
      "\n",
      "\n",
      "this is C:\\Users\\hswap\\OneDrive\\Desktop\\python\\file mange\\new file\\much_new:[]\n",
      "\n",
      "\n",
      "\n",
      "\n",
      "\n",
      "\n"
     ]
    }
   ],
   "source": [
    "file_path=os.getcwd()\n",
    "for root,sub_forder,files in os.walk(file_path):\n",
    "    print(f'this is {root}:{sub_forder}')\n",
    "    print(\"\\n\")\n",
    "    for sub in sub_forder:\n",
    "        print(f'this is:{sub}')\n",
    "    print('\\n')\n",
    "    for file in files:\n",
    "        print(f'this is :{file}')\n",
    "    print('\\n')"
   ]
  },
  {
   "cell_type": "code",
   "execution_count": 74,
   "id": "c462acd1-0e45-45f9-9883-46ba2e3ced08",
   "metadata": {},
   "outputs": [
    {
     "name": "stdout",
     "output_type": "stream",
     "text": [
      "Subdirectories in C:\\Users\\hswap\\OneDrive\\Desktop\\python\\file mange: ['.ipynb_checkpoints', 'new file']\n",
      "\n",
      "\n",
      "Subdirectory: .ipynb_checkpoints\n",
      "Subdirectory: new file\n",
      "\n",
      "\n",
      "File: amar.pdf\n",
      "PDF found:C:\\Users\\hswap\\OneDrive\\Desktop\\python\\file mange\\amar.pdf\n",
      "Transfer complete\n",
      "File: file.txt\n",
      "PDF found:C:\\Users\\hswap\\OneDrive\\Desktop\\python\\file mange\\file.txt\n",
      "Transfer complete\n",
      "File: foole.ipynb\n",
      "File: komar.jpg\n",
      "JPG found:C:\\Users\\hswap\\OneDrive\\Desktop\\python\\file mange\\komar.jpg\n",
      "Transfer complete\n",
      "File: tomar.docx\n",
      "PDF found:C:\\Users\\hswap\\OneDrive\\Desktop\\python\\file mange\\tomar.docx\n",
      "Transfer complete\n",
      "File: Untitled.ipynb\n",
      "Subdirectories in C:\\Users\\hswap\\OneDrive\\Desktop\\python\\file mange\\.ipynb_checkpoints: []\n",
      "\n",
      "\n",
      "\n",
      "\n",
      "File: file-checkpoint.txt\n",
      "PDF found:C:\\Users\\hswap\\OneDrive\\Desktop\\python\\file mange\\.ipynb_checkpoints\\file-checkpoint.txt\n",
      "Transfer complete\n",
      "File: foole-checkpoint.ipynb\n",
      "File: Untitled-checkpoint.ipynb\n",
      "Subdirectories in C:\\Users\\hswap\\OneDrive\\Desktop\\python\\file mange\\new file: ['.ipynb_checkpoints', 'documen', 'imag', 'other']\n",
      "\n",
      "\n",
      "Subdirectory: .ipynb_checkpoints\n",
      "Subdirectory: documen\n",
      "Subdirectory: imag\n",
      "Subdirectory: other\n",
      "\n",
      "\n",
      "Subdirectories in C:\\Users\\hswap\\OneDrive\\Desktop\\python\\file mange\\new file\\.ipynb_checkpoints: []\n",
      "\n",
      "\n",
      "\n",
      "\n",
      "Subdirectories in C:\\Users\\hswap\\OneDrive\\Desktop\\python\\file mange\\new file\\documen: []\n",
      "\n",
      "\n",
      "\n",
      "\n",
      "File: amar.pdf\n",
      "PDF found:C:\\Users\\hswap\\OneDrive\\Desktop\\python\\file mange\\new file\\documen\\amar.pdf\n"
     ]
    },
    {
     "ename": "Error",
     "evalue": "Destination path 'C:\\Users\\hswap\\OneDrive\\Desktop\\python\\file mange\\new file\\documen\\amar.pdf' already exists",
     "output_type": "error",
     "traceback": [
      "\u001b[1;31m---------------------------------------------------------------------------\u001b[0m",
      "\u001b[1;31mError\u001b[0m                                     Traceback (most recent call last)",
      "Cell \u001b[1;32mIn[74], line 28\u001b[0m\n\u001b[0;32m     26\u001b[0m     \u001b[38;5;28;01mif\u001b[39;00m os\u001b[38;5;241m.\u001b[39mpath\u001b[38;5;241m.\u001b[39mexists(full_path_pdf):\n\u001b[0;32m     27\u001b[0m         os\u001b[38;5;241m.\u001b[39mmakedirs(\u001b[38;5;124m'\u001b[39m\u001b[38;5;124mC:\u001b[39m\u001b[38;5;130;01m\\\\\u001b[39;00m\u001b[38;5;124mUsers\u001b[39m\u001b[38;5;130;01m\\\\\u001b[39;00m\u001b[38;5;124mhswap\u001b[39m\u001b[38;5;130;01m\\\\\u001b[39;00m\u001b[38;5;124mOneDrive\u001b[39m\u001b[38;5;130;01m\\\\\u001b[39;00m\u001b[38;5;124mDesktop\u001b[39m\u001b[38;5;130;01m\\\\\u001b[39;00m\u001b[38;5;124mpython\u001b[39m\u001b[38;5;130;01m\\\\\u001b[39;00m\u001b[38;5;124mfile mange\u001b[39m\u001b[38;5;130;01m\\\\\u001b[39;00m\u001b[38;5;124mnew file\u001b[39m\u001b[38;5;130;01m\\\\\u001b[39;00m\u001b[38;5;124mdocumen\u001b[39m\u001b[38;5;124m'\u001b[39m,exist_ok\u001b[38;5;241m=\u001b[39m\u001b[38;5;28;01mTrue\u001b[39;00m)\n\u001b[1;32m---> 28\u001b[0m         shutil\u001b[38;5;241m.\u001b[39mmove(full_path_pdf,\u001b[38;5;124m'\u001b[39m\u001b[38;5;124mC:\u001b[39m\u001b[38;5;130;01m\\\\\u001b[39;00m\u001b[38;5;124mUsers\u001b[39m\u001b[38;5;130;01m\\\\\u001b[39;00m\u001b[38;5;124mhswap\u001b[39m\u001b[38;5;130;01m\\\\\u001b[39;00m\u001b[38;5;124mOneDrive\u001b[39m\u001b[38;5;130;01m\\\\\u001b[39;00m\u001b[38;5;124mDesktop\u001b[39m\u001b[38;5;130;01m\\\\\u001b[39;00m\u001b[38;5;124mpython\u001b[39m\u001b[38;5;130;01m\\\\\u001b[39;00m\u001b[38;5;124mfile mange\u001b[39m\u001b[38;5;130;01m\\\\\u001b[39;00m\u001b[38;5;124mnew file\u001b[39m\u001b[38;5;130;01m\\\\\u001b[39;00m\u001b[38;5;124mdocumen\u001b[39m\u001b[38;5;124m'\u001b[39m)\n\u001b[0;32m     29\u001b[0m         \u001b[38;5;28mprint\u001b[39m(\u001b[38;5;124m'\u001b[39m\u001b[38;5;124mTransfer complete\u001b[39m\u001b[38;5;124m'\u001b[39m)\n\u001b[0;32m     32\u001b[0m \u001b[38;5;28;01mif\u001b[39;00m file\u001b[38;5;241m.\u001b[39mendswith(\u001b[38;5;124m'\u001b[39m\u001b[38;5;124m.docx\u001b[39m\u001b[38;5;124m'\u001b[39m):\n",
      "File \u001b[1;32m~\\anaconda3\\Lib\\shutil.py:854\u001b[0m, in \u001b[0;36mmove\u001b[1;34m(src, dst, copy_function)\u001b[0m\n\u001b[0;32m    851\u001b[0m     real_dst \u001b[38;5;241m=\u001b[39m os\u001b[38;5;241m.\u001b[39mpath\u001b[38;5;241m.\u001b[39mjoin(dst, _basename(src))\n\u001b[0;32m    853\u001b[0m     \u001b[38;5;28;01mif\u001b[39;00m os\u001b[38;5;241m.\u001b[39mpath\u001b[38;5;241m.\u001b[39mexists(real_dst):\n\u001b[1;32m--> 854\u001b[0m         \u001b[38;5;28;01mraise\u001b[39;00m Error(\u001b[38;5;124m\"\u001b[39m\u001b[38;5;124mDestination path \u001b[39m\u001b[38;5;124m'\u001b[39m\u001b[38;5;132;01m%s\u001b[39;00m\u001b[38;5;124m'\u001b[39m\u001b[38;5;124m already exists\u001b[39m\u001b[38;5;124m\"\u001b[39m \u001b[38;5;241m%\u001b[39m real_dst)\n\u001b[0;32m    855\u001b[0m \u001b[38;5;28;01mtry\u001b[39;00m:\n\u001b[0;32m    856\u001b[0m     os\u001b[38;5;241m.\u001b[39mrename(src, real_dst)\n",
      "\u001b[1;31mError\u001b[0m: Destination path 'C:\\Users\\hswap\\OneDrive\\Desktop\\python\\file mange\\new file\\documen\\amar.pdf' already exists"
     ]
    }
   ],
   "source": [
    "import os\n",
    "import shutil\n",
    "file_path = os.getcwd()\n",
    "for root, sub_folders, files in os.walk(file_path):\n",
    "    print(f'Subdirectories in {root}: {sub_folders}')\n",
    "    print(\"\\n\")\n",
    "    for sub in sub_folders:\n",
    "        print(f'Subdirectory: {sub}')\n",
    "        \n",
    "    print('\\n')\n",
    "    for file in files:\n",
    "        print(f'File: {file}')\n",
    "\n",
    "        if file.endswith('.jpg'):\n",
    "            full_path_jpg= os.path.join(root,file)\n",
    "            print(f'JPG found:{full_path_jpg}')\n",
    "\n",
    "            if os.path.exists(full_path_jpg):\n",
    "                os.makedirs('C:\\\\Users\\\\hswap\\\\OneDrive\\\\Desktop\\\\python\\\\file mange\\\\new file\\\\imag',exist_ok=True)\n",
    "                shutil.move(full_path_jpg,'C:\\\\Users\\\\hswap\\\\OneDrive\\\\Desktop\\\\python\\\\file mange\\\\new file\\\\imag')\n",
    "                print('Transfer complete')\n",
    "        if file.endswith('.pdf'):\n",
    "            full_path_pdf= os.path.join(root,file)\n",
    "            print(f'PDF found:{full_path_pdf}')\n",
    "\n",
    "            if os.path.exists(full_path_pdf):\n",
    "                os.makedirs('C:\\\\Users\\\\hswap\\\\OneDrive\\\\Desktop\\\\python\\\\file mange\\\\new file\\\\documen',exist_ok=True)\n",
    "                shutil.move(full_path_pdf,'C:\\\\Users\\\\hswap\\\\OneDrive\\\\Desktop\\\\python\\\\file mange\\\\new file\\\\documen')\n",
    "                print('Transfer complete')\n",
    "\n",
    "        \n",
    "        if file.endswith('.docx'):\n",
    "            full_path_docx= os.path.join(root,file)\n",
    "            print(f'PDF found:{full_path_docx}')\n",
    "\n",
    "            if os.path.exists(full_path_docx):\n",
    "                os.makedirs('C:\\\\Users\\\\hswap\\\\OneDrive\\\\Desktop\\\\python\\\\file mange\\\\new file\\\\documen',exist_ok=True)\n",
    "                shutil.move(full_path_docx,'C:\\\\Users\\\\hswap\\\\OneDrive\\\\Desktop\\\\python\\\\file mange\\\\new file\\\\documen')\n",
    "                print('Transfer complete')\n",
    "                \n",
    "        if file.endswith('.txt'):\n",
    "            full_path_txt= os.path.join(root,file)\n",
    "            print(f'PDF found:{full_path_txt}')\n",
    "\n",
    "            if os.path.exists(full_path_txt):\n",
    "                os.makedirs('C:\\\\Users\\\\hswap\\\\OneDrive\\\\Desktop\\\\python\\\\file mange\\\\new file\\\\other',exist_ok=True)\n",
    "                shutil.move(full_path_txt,'C:\\\\Users\\\\hswap\\\\OneDrive\\\\Desktop\\\\python\\\\file mange\\\\new file\\\\other')\n",
    "                print('Transfer complete')\n",
    "\n",
    "        "
   ]
  },
  {
   "cell_type": "code",
   "execution_count": 34,
   "id": "384fc9a3-d624-43df-8c60-ffff19a61ece",
   "metadata": {},
   "outputs": [
    {
     "data": {
      "text/plain": [
       "'C:\\\\Users\\\\hswap\\\\OneDrive\\\\Desktop\\\\python\\\\file mange\\\\new file'"
      ]
     },
     "execution_count": 34,
     "metadata": {},
     "output_type": "execute_result"
    }
   ],
   "source": [
    "os.path.join(root)"
   ]
  },
  {
   "cell_type": "code",
   "execution_count": 50,
   "id": "819f7824-9ac7-4248-9b7c-5053ca92efb6",
   "metadata": {},
   "outputs": [
    {
     "ename": "FileNotFoundError",
     "evalue": "[WinError 2] The system cannot find the file specified",
     "output_type": "error",
     "traceback": [
      "\u001b[1;31m---------------------------------------------------------------------------\u001b[0m",
      "\u001b[1;31mFileNotFoundError\u001b[0m                         Traceback (most recent call last)",
      "File \u001b[1;32m~\\anaconda3\\Lib\\shutil.py:856\u001b[0m, in \u001b[0;36mmove\u001b[1;34m(src, dst, copy_function)\u001b[0m\n\u001b[0;32m    855\u001b[0m \u001b[38;5;28;01mtry\u001b[39;00m:\n\u001b[1;32m--> 856\u001b[0m     os\u001b[38;5;241m.\u001b[39mrename(src, real_dst)\n\u001b[0;32m    857\u001b[0m \u001b[38;5;28;01mexcept\u001b[39;00m \u001b[38;5;167;01mOSError\u001b[39;00m:\n",
      "\u001b[1;31mFileNotFoundError\u001b[0m: [WinError 2] The system cannot find the file specified: 'C:\\\\Users\\\\hswap\\\\OneDrive\\\\Desktop\\\\python\\\\file mange\\\\new file\\\\untitled.pdf' -> 'C:\\\\Users\\\\hswap\\\\OneDrive\\\\Desktop\\\\python\\\\file mange\\\\new file\\\\docu\\\\untitled.pdf'",
      "\nDuring handling of the above exception, another exception occurred:\n",
      "\u001b[1;31mFileNotFoundError\u001b[0m                         Traceback (most recent call last)",
      "Cell \u001b[1;32mIn[50], line 6\u001b[0m\n\u001b[0;32m      2\u001b[0m full_path\u001b[38;5;241m=\u001b[39mos\u001b[38;5;241m.\u001b[39mpath\u001b[38;5;241m.\u001b[39mjoin(root,file)\n\u001b[0;32m      5\u001b[0m os\u001b[38;5;241m.\u001b[39mmakedirs(\u001b[38;5;124m'\u001b[39m\u001b[38;5;124mC:\u001b[39m\u001b[38;5;130;01m\\\\\u001b[39;00m\u001b[38;5;124mUsers\u001b[39m\u001b[38;5;130;01m\\\\\u001b[39;00m\u001b[38;5;124mhswap\u001b[39m\u001b[38;5;130;01m\\\\\u001b[39;00m\u001b[38;5;124mOneDrive\u001b[39m\u001b[38;5;130;01m\\\\\u001b[39;00m\u001b[38;5;124mDesktop\u001b[39m\u001b[38;5;130;01m\\\\\u001b[39;00m\u001b[38;5;124mpython\u001b[39m\u001b[38;5;130;01m\\\\\u001b[39;00m\u001b[38;5;124mfile mange\u001b[39m\u001b[38;5;130;01m\\\\\u001b[39;00m\u001b[38;5;124mnew file\u001b[39m\u001b[38;5;130;01m\\\\\u001b[39;00m\u001b[38;5;124mdocu\u001b[39m\u001b[38;5;124m'\u001b[39m,exist_ok\u001b[38;5;241m=\u001b[39m\u001b[38;5;28;01mTrue\u001b[39;00m)\n\u001b[1;32m----> 6\u001b[0m shutil\u001b[38;5;241m.\u001b[39mmove(full_path,\u001b[38;5;124m'\u001b[39m\u001b[38;5;124mC:\u001b[39m\u001b[38;5;130;01m\\\\\u001b[39;00m\u001b[38;5;124mUsers\u001b[39m\u001b[38;5;130;01m\\\\\u001b[39;00m\u001b[38;5;124mhswap\u001b[39m\u001b[38;5;130;01m\\\\\u001b[39;00m\u001b[38;5;124mOneDrive\u001b[39m\u001b[38;5;130;01m\\\\\u001b[39;00m\u001b[38;5;124mDesktop\u001b[39m\u001b[38;5;130;01m\\\\\u001b[39;00m\u001b[38;5;124mpython\u001b[39m\u001b[38;5;130;01m\\\\\u001b[39;00m\u001b[38;5;124mfile mange\u001b[39m\u001b[38;5;130;01m\\\\\u001b[39;00m\u001b[38;5;124mnew file\u001b[39m\u001b[38;5;130;01m\\\\\u001b[39;00m\u001b[38;5;124mdocu\u001b[39m\u001b[38;5;124m'\u001b[39m)\n",
      "File \u001b[1;32m~\\anaconda3\\Lib\\shutil.py:876\u001b[0m, in \u001b[0;36mmove\u001b[1;34m(src, dst, copy_function)\u001b[0m\n\u001b[0;32m    874\u001b[0m         rmtree(src)\n\u001b[0;32m    875\u001b[0m     \u001b[38;5;28;01melse\u001b[39;00m:\n\u001b[1;32m--> 876\u001b[0m         copy_function(src, real_dst)\n\u001b[0;32m    877\u001b[0m         os\u001b[38;5;241m.\u001b[39munlink(src)\n\u001b[0;32m    878\u001b[0m \u001b[38;5;28;01mreturn\u001b[39;00m real_dst\n",
      "File \u001b[1;32m~\\anaconda3\\Lib\\shutil.py:453\u001b[0m, in \u001b[0;36mcopy2\u001b[1;34m(src, dst, follow_symlinks)\u001b[0m\n\u001b[0;32m    451\u001b[0m     flags \u001b[38;5;241m|\u001b[39m\u001b[38;5;241m=\u001b[39m _winapi\u001b[38;5;241m.\u001b[39mCOPY_FILE_COPY_SYMLINK\n\u001b[0;32m    452\u001b[0m \u001b[38;5;28;01mtry\u001b[39;00m:\n\u001b[1;32m--> 453\u001b[0m     _winapi\u001b[38;5;241m.\u001b[39mCopyFile2(src_, dst_, flags)\n\u001b[0;32m    454\u001b[0m     \u001b[38;5;28;01mreturn\u001b[39;00m dst\n\u001b[0;32m    455\u001b[0m \u001b[38;5;28;01mexcept\u001b[39;00m \u001b[38;5;167;01mOSError\u001b[39;00m \u001b[38;5;28;01mas\u001b[39;00m exc:\n",
      "\u001b[1;31mFileNotFoundError\u001b[0m: [WinError 2] The system cannot find the file specified"
     ]
    }
   ],
   "source": [
    "if file.endswith('.pdf'):\n",
    "    full_path=os.path.join(root,file)\n",
    "    \n",
    "        \n",
    "    os.makedirs('C:\\\\Users\\\\hswap\\\\OneDrive\\\\Desktop\\\\python\\\\file mange\\\\new file\\\\docu',exist_ok=True)\n",
    "    shutil.move(full_path,'C:\\\\Users\\\\hswap\\\\OneDrive\\\\Desktop\\\\python\\\\file mange\\\\new file\\\\docu')\n",
    "    \n"
   ]
  },
  {
   "cell_type": "code",
   "execution_count": 48,
   "id": "825dd4d9-b4f1-4947-8c9d-978d037d424c",
   "metadata": {},
   "outputs": [
    {
     "data": {
      "text/plain": [
       "'C:\\\\Users\\\\hswap\\\\OneDrive\\\\Desktop\\\\python\\\\file mange'"
      ]
     },
     "execution_count": 48,
     "metadata": {},
     "output_type": "execute_result"
    }
   ],
   "source": [
    "os.getcwd()"
   ]
  },
  {
   "cell_type": "code",
   "execution_count": 62,
   "id": "d26b089b-fd13-4127-a62d-98edec6eb2f5",
   "metadata": {},
   "outputs": [
    {
     "name": "stdout",
     "output_type": "stream",
     "text": [
      "C:\\Users\\hswap\\OneDrive\\Desktop\\python\\file mange\\new file\\untitled.pdf\n"
     ]
    }
   ],
   "source": [
    "if file.endswith('.jpg'):\n",
    "    full_path=os.path(root,)\n",
    "\n",
    "    if os.path.exists(full_path):\n",
    "        os.makedirs()\n",
    "\n",
    "print(full_path)"
   ]
  },
  {
   "cell_type": "code",
   "execution_count": 58,
   "id": "c8829337-b621-41be-931b-dab61aec67af",
   "metadata": {},
   "outputs": [
    {
     "ename": "NameError",
     "evalue": "name 'sub_folder' is not defined",
     "output_type": "error",
     "traceback": [
      "\u001b[1;31m---------------------------------------------------------------------------\u001b[0m",
      "\u001b[1;31mNameError\u001b[0m                                 Traceback (most recent call last)",
      "Cell \u001b[1;32mIn[58], line 1\u001b[0m\n\u001b[1;32m----> 1\u001b[0m full_sub_path\u001b[38;5;241m=\u001b[39mos\u001b[38;5;241m.\u001b[39mpath(root,sub_folder)\n",
      "\u001b[1;31mNameError\u001b[0m: name 'sub_folder' is not defined"
     ]
    }
   ],
   "source": [
    "full_sub_path=os.path(root,)"
   ]
  },
  {
   "cell_type": "code",
   "execution_count": null,
   "id": "b1918f51-5c15-49f4-a33a-e06078adbf56",
   "metadata": {},
   "outputs": [],
   "source": []
  }
 ],
 "metadata": {
  "kernelspec": {
   "display_name": "Python [conda env:base] *",
   "language": "python",
   "name": "conda-base-py"
  },
  "language_info": {
   "codemirror_mode": {
    "name": "ipython",
    "version": 3
   },
   "file_extension": ".py",
   "mimetype": "text/x-python",
   "name": "python",
   "nbconvert_exporter": "python",
   "pygments_lexer": "ipython3",
   "version": "3.13.5"
  }
 },
 "nbformat": 4,
 "nbformat_minor": 5
}
