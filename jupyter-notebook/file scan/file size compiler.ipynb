{
 "cells": [
  {
   "cell_type": "code",
   "execution_count": 1,
   "id": "225c6660-8da8-4afd-804a-a4fecac2513c",
   "metadata": {},
   "outputs": [],
   "source": [
    "import os"
   ]
  },
  {
   "cell_type": "code",
   "execution_count": 13,
   "id": "a1afe70c-1cc4-4b09-97e7-bfabe8876956",
   "metadata": {},
   "outputs": [],
   "source": [
    "file_size=os.path.getsize(r'C:\\Users\\hswap\\OneDrive\\Desktop\\polymath\\Screenshot 2025-08-15 084255.png')/1024\n",
    "file_in_kb=f'{file_size:.1f}'"
   ]
  },
  {
   "cell_type": "code",
   "execution_count": 14,
   "id": "4bf2adf9-c6c5-4b4c-b5cd-b575eb6948a1",
   "metadata": {},
   "outputs": [
    {
     "data": {
      "text/plain": [
       "'82.3'"
      ]
     },
     "execution_count": 14,
     "metadata": {},
     "output_type": "execute_result"
    }
   ],
   "source": [
    "file_in_kb"
   ]
  },
  {
   "cell_type": "code",
   "execution_count": 16,
   "id": "75c030f4-7118-4e29-8f6f-ad215c6f9edd",
   "metadata": {},
   "outputs": [],
   "source": [
    "rram=set()"
   ]
  },
  {
   "cell_type": "raw",
   "id": "d7889664-84e4-4538-9ba8-4d5ef7a83eae",
   "metadata": {},
   "source": [
    "ram"
   ]
  },
  {
   "cell_type": "raw",
   "id": "5a894025-d8f1-40a3-bb23-1cd70c32bc99",
   "metadata": {},
   "source": []
  },
  {
   "cell_type": "code",
   "execution_count": 18,
   "id": "9048111e-2222-4c41-8135-04e247ba7e97",
   "metadata": {},
   "outputs": [
    {
     "data": {
      "text/plain": [
       "set()"
      ]
     },
     "execution_count": 18,
     "metadata": {},
     "output_type": "execute_result"
    }
   ],
   "source": [
    "rram.\n"
   ]
  },
  {
   "cell_type": "code",
   "execution_count": 54,
   "id": "6ce9a5c0-0128-4182-b938-4caa9fe09163",
   "metadata": {},
   "outputs": [
    {
     "name": "stdin",
     "output_type": "stream",
     "text": [
      "Pleae provide a valid path that you want to scan \"C:\\Users\\hswap\\OneDrive\\Desktop\\polymath\\coding\"\n"
     ]
    },
    {
     "name": "stdout",
     "output_type": "stream",
     "text": [
      "Valid path received:C:\\Users\\hswap\\OneDrive\\Desktop\\polymath\\coding\n",
      "aw2obsidian.py: 11.0 KB\n",
      "Building a typing test website that not only measures speed and accuracy.docx: 19.3 KB\n",
      "coding log.docx: 34.5 KB\n",
      "coding logic building.docx: 22.1 KB\n",
      "CompSci.pdf: 104.9 KB\n",
      "Day 1.docx: 16.4 KB\n",
      "electrical-engineering-computer-science.pdf: 1.5 MB\n",
      "mathematics.pdf: 636.0 KB\n",
      "Physics.pdf: 272.7 KB\n"
     ]
    }
   ],
   "source": [
    "def get_path():\n",
    "    while True:\n",
    "        src =input(\"Pleae provide a valid path that you want to scan\")\n",
    "        src= os.path.normpath(src)\n",
    "        src=src.strip('\"\\'')\n",
    "        \n",
    "        \n",
    "        if os.path.exists(src):\n",
    "            \n",
    "            return src\n",
    "        else:\n",
    "            print(\"Invalid path! please provide a new one\")\n",
    "\n",
    "\n",
    "SRC=get_path()\n",
    "print(f'Valid path received:{SRC}')\n",
    "for root, sub_folder, file in os.walk(SRC):\n",
    "   for root, sub_folder, files in os.walk(SRC):\n",
    "    for file in files:\n",
    "        full_path = os.path.join(root, file)\n",
    "        size = os.path.getsize(full_path)\n",
    "        if size > 1024 * 1024:\n",
    "            size_str = f\"{size / (1024 * 1024):.1f} MB\"\n",
    "        elif size > 1024:\n",
    "            size_str = f\"{size / 1024:.1f} KB\"\n",
    "        else:\n",
    "            size_str = f\"{size} bytes\"\n",
    "        print(f\"{file}: {size_str}\")\n",
    "        \n",
    "\n",
    "       \n",
    "  "
   ]
  },
  {
   "cell_type": "code",
   "execution_count": 57,
   "id": "3bec31d6-8a1d-4d6c-b017-92e9b6fa89ae",
   "metadata": {},
   "outputs": [
    {
     "ename": "SyntaxError",
     "evalue": "unexpected character after line continuation character (3816600040.py, line 1)",
     "output_type": "error",
     "traceback": [
      "\u001b[1;36m  Cell \u001b[1;32mIn[57], line 1\u001b[1;36m\u001b[0m\n\u001b[1;33m    C:\\Users\\hswap\\OneDrive\\Desktop\\python\\actual code\\advance module\\file_organizer_better.py\u001b[0m\n\u001b[1;37m       ^\u001b[0m\n\u001b[1;31mSyntaxError\u001b[0m\u001b[1;31m:\u001b[0m unexpected character after line continuation character\n"
     ]
    }
   ],
   "source": []
  },
  {
   "cell_type": "code",
   "execution_count": 73,
   "id": "9e51bd50-bc4f-4386-8aec-dee560088002",
   "metadata": {},
   "outputs": [
    {
     "data": {
      "text/plain": [
       "Counter({1: 6, 2: 3, 6: 3, 7: 3, 4: 2, 5: 2, 9: 2, 0: 1})"
      ]
     },
     "execution_count": 73,
     "metadata": {},
     "output_type": "execute_result"
    }
   ],
   "source": [
    "from collections import Counter\n",
    "name=[1,1,1,1,1,1,2,2,2,4,0,4,5,5,6,9,6,6,7,9,7,7,]\n",
    "Counter(name)"
   ]
  },
  {
   "cell_type": "code",
   "execution_count": 66,
   "id": "20c4f553-1cce-41a4-bd7e-55ee417f4e40",
   "metadata": {},
   "outputs": [
    {
     "name": "stdin",
     "output_type": "stream",
     "text": [
      "please provide a valid path that you want to scan:  \"C:\\Users\\hswap\\OneDrive\\Desktop\\polymath\\coding\"\n"
     ]
    },
    {
     "name": "stderr",
     "output_type": "stream",
     "text": [
      "INFO:scan:C:\\Users\\hswap\\OneDrive\\Desktop\\polymath\\coding\\amar.pdf ->  documents\n",
      "INFO:scan:C:\\Users\\hswap\\OneDrive\\Desktop\\polymath\\coding\\aw2obsidian.py ->  other\n",
      "INFO:scan:C:\\Users\\hswap\\OneDrive\\Desktop\\polymath\\coding\\Building a typing test website that not only measures speed and accuracy.docx ->  documents\n",
      "INFO:scan:C:\\Users\\hswap\\OneDrive\\Desktop\\polymath\\coding\\coding log.docx ->  documents\n",
      "INFO:scan:C:\\Users\\hswap\\OneDrive\\Desktop\\polymath\\coding\\coding logic building.docx ->  documents\n",
      "INFO:scan:C:\\Users\\hswap\\OneDrive\\Desktop\\polymath\\coding\\CompSci.pdf ->  documents\n",
      "INFO:scan:C:\\Users\\hswap\\OneDrive\\Desktop\\polymath\\coding\\Day 1.docx ->  documents\n",
      "INFO:scan:C:\\Users\\hswap\\OneDrive\\Desktop\\polymath\\coding\\electrical-engineering-computer-science.pdf ->  documents\n",
      "INFO:scan:C:\\Users\\hswap\\OneDrive\\Desktop\\polymath\\coding\\mathematics.pdf ->  documents\n",
      "INFO:scan:C:\\Users\\hswap\\OneDrive\\Desktop\\polymath\\coding\\Physics.pdf ->  documents\n",
      "INFO:scan:C:\\Users\\hswap\\OneDrive\\Desktop\\polymath\\coding\\tomar.docx ->  documents\n",
      "INFO:Done. Count: 11, Errors: 0\n"
     ]
    },
    {
     "name": "stdout",
     "output_type": "stream",
     "text": [
      "This is the folder: C:\\Users\\hswap\\OneDrive\\Desktop\\polymath\\coding\n",
      "\n",
      "\n",
      "\n",
      "\n",
      "amar.pdf: 0Bytes\n",
      "aw2obsidian.py: 11.0Kb\n",
      "Building a typing test website that not only measures speed and accuracy.docx: 19.3Kb\n",
      "coding log.docx: 34.5Kb\n",
      "coding logic building.docx: 22.1Kb\n",
      "CompSci.pdf: 104.9Kb\n",
      "Day 1.docx: 16.4Kb\n",
      "electrical-engineering-computer-science.pdf: 1.5Mb\n",
      "mathematics.pdf: 636.0Kb\n",
      "Physics.pdf: 272.7Kb\n",
      "tomar.docx: 0Bytes\n",
      "File count: 11\n",
      " .pdf: 5 \n",
      " .py: 1 \n",
      " .docx: 5 \n"
     ]
    }
   ],
   "source": [
    "import os\n",
    "import collections\n",
    "import logging\n",
    "\n",
    " # or set an absolute path like r\"C:\\Users\\...\\Downloads\"\n",
    "\n",
    "EXT_MAP = {\n",
    "    \".jpg\": \"images\",\n",
    "    \".jpeg\": \"images\",\n",
    "    \".png\": \"images\",\n",
    "    \".gif\": \"images\",\n",
    "    \".pdf\": \"documents\",\n",
    "    \".docx\": \"documents\",\n",
    "    \".doc\": \"documents\",\n",
    "    \".xls\": \"documents\",\n",
    "    \".xlsx\": \"documents\",\n",
    "    \".txt\": \"other\",\n",
    "    \".csv\": \"other\",\n",
    "    \".mp3\": \"music\",\n",
    "    }\n",
    "\n",
    "DRY_RUN=False\n",
    "LOG_LEVEL= logging.INFO\n",
    "\n",
    "logging.basicConfig(level=LOG_LEVEL, format=\"%(levelname)s:%(message)s\")\n",
    "\n",
    "def get_path():\n",
    "    while True:\n",
    "        src=input(\"please provide a valid path that you want to scan: \")\n",
    "        src=os.path.normpath(src)\n",
    "        src=src.strip('\"\\'')\n",
    "\n",
    "        if os.path.exists(src):\n",
    "            return src\n",
    "        else:\n",
    "            print(\"invalid Path! please prvide a new one\")\n",
    "\n",
    "SRC=get_path()\n",
    "\n",
    "\n",
    "def main():\n",
    "        \n",
    "    file_count=0\n",
    "    error=0\n",
    "    file_type=[]\n",
    "\n",
    "    for root, subdirs, files in os.walk(SRC):\n",
    "        print(f'This is the folder: {root}')\n",
    "        print('\\n')\n",
    "\n",
    "        for sub in subdirs:\n",
    "            print(f'found :{sub}')\n",
    "        print('\\n')\n",
    "\n",
    "        for file in files:\n",
    "            full_path=os.path.join(root,file)\n",
    "            ext=os.path.splitext(file)[1].lower()\n",
    "            \n",
    "        \n",
    "            target_dir=EXT_MAP.get(ext,'other')\n",
    "            action=\"preview\" if DRY_RUN else \"scan\"\n",
    "            logging.info(f'{action}:{full_path} ->  {target_dir}')\n",
    "\n",
    "        \n",
    "\n",
    "            try:\n",
    "                size=os.path.getsize(full_path)\n",
    "                \n",
    "                file_count +=1\n",
    "                file_type.append(ext)\n",
    "\n",
    "                if size> 1024*1024:\n",
    "                    size_str=f\"{size/(1024*1024):.1f}Mb\"\n",
    "                    \n",
    "                elif size>1024:\n",
    "                    size_str=f\"{size/1024:.1f}Kb\"\n",
    "                    \n",
    "                else:\n",
    "                    size_str=f\"{size}Bytes\"\n",
    "                    \n",
    "                print(f'{file}: {size_str}')\n",
    "            except Exception as e:\n",
    "                error +=1\n",
    "                logging.error(f'Failed to count: {file}' )\n",
    "            \n",
    "            \n",
    "    print (f'File count: {file_count}') \n",
    "    if ext in EXT_MAP:\n",
    "        sorting_list=collections.Counter(file_type)\n",
    "\n",
    "    for filetype, numbers in sorting_list.items():\n",
    "        print(f' {filetype}: {numbers} ')\n",
    "       \n",
    "\n",
    "    logging.info(f\"Done. Count: {file_count}, Errors: {error}\")\n",
    "\n",
    "if __name__ == \"__main__\":\n",
    "    main()\n"
   ]
  },
  {
   "cell_type": "code",
   "execution_count": 64,
   "id": "7cb54e39-6fa7-4c58-8170-368ce4ade4a9",
   "metadata": {},
   "outputs": [
    {
     "name": "stdout",
     "output_type": "stream",
     "text": [
      "['ram', 'sam']\n",
      "['kam', 'sam']\n",
      "['pam', 'tam']\n",
      "['ram', 'tam']\n",
      "the file ram and 2\n",
      "the file sam and 2\n",
      "the file kam and 1\n",
      "the file pam and 1\n",
      "the file tam and 2\n"
     ]
    }
   ],
   "source": [
    "list1=['ram.sam', 'kam.sam','pam.tam','ram.tam']\n",
    "all_parts=[]\n",
    "for i in list1:\n",
    "    j= i.split('.')\n",
    "    print(j)\n",
    "    all_parts.extend(j)\n",
    "result=collections.Counter(all_parts)\n",
    "for i,j in result.items():\n",
    "    print(f'the file {i} and {j}')\n",
    "\n"
   ]
  },
  {
   "cell_type": "code",
   "execution_count": null,
   "id": "06caf54c-465b-491e-ad84-a4697832106a",
   "metadata": {},
   "outputs": [],
   "source": []
  },
  {
   "cell_type": "code",
   "execution_count": 67,
   "id": "cef1f6ca-00be-45c2-b726-f598f3d830c1",
   "metadata": {},
   "outputs": [
    {
     "name": "stdin",
     "output_type": "stream",
     "text": [
      "Path to scan:  \"C:\\Users\\hswap\\OneDrive\\Desktop\\polymath\\coding\"\n"
     ]
    },
    {
     "name": "stderr",
     "output_type": "stream",
     "text": [
      "INFO:DIR: C:\\Users\\hswap\\OneDrive\\Desktop\\polymath\\coding  (subdirs: 0, files: 11)\n",
      "INFO:Done.\n"
     ]
    },
    {
     "name": "stdout",
     "output_type": "stream",
     "text": [
      "\n",
      "===== SUMMARY =====\n",
      "Total files: 11\n",
      "Errors: 0\n",
      "\n",
      ".pdf      files=     5  total=   2.5MB\n",
      ".docx     files=     5  total=  92.4KB\n",
      ".py       files=     1  total=  11.0KB\n"
     ]
    }
   ],
   "source": [
    "import os\n",
    "from collections import Counter, defaultdict\n",
    "import logging\n",
    "\n",
    "EXT_MAP = {\n",
    "    \".jpg\": \"images\", \".jpeg\": \"images\", \".png\": \"images\", \".gif\": \"images\",\n",
    "    \".pdf\": \"documents\", \".docx\": \"documents\", \".doc\": \"documents\",\n",
    "    \".xls\": \"documents\", \".xlsx\": \"documents\",\n",
    "    \".txt\": \"other\", \".csv\": \"other\", \".mp3\": \"music\",\n",
    "}\n",
    "\n",
    "DRY_RUN = False\n",
    "LOG_LEVEL = logging.INFO\n",
    "logging.basicConfig(level=LOG_LEVEL, format=\"%(levelname)s:%(message)s\")\n",
    "\n",
    "def get_path():\n",
    "    while True:\n",
    "        src = input(\"Path to scan: \").strip().strip('\"\\'')\n",
    "        src = os.path.normpath(src)\n",
    "        if os.path.exists(src):\n",
    "            return src\n",
    "        print(\"Invalid path. Try again.\")\n",
    "\n",
    "SRC = get_path()\n",
    "\n",
    "def human_size(nbytes):\n",
    "    # 1024-based units; exact boundaries\n",
    "    for unit in (\"B\", \"KB\", \"MB\", \"GB\", \"TB\"):\n",
    "        if nbytes < 1024 or unit == \"TB\":\n",
    "            return f\"{nbytes:.0f}{unit}\" if unit == \"B\" else f\"{nbytes:.1f}{unit}\"\n",
    "        nbytes /= 1024.0\n",
    "\n",
    "def main():\n",
    "    file_count = 0\n",
    "    errors = 0\n",
    "\n",
    "    per_ext_count = Counter()\n",
    "    per_ext_bytes = defaultdict(int)\n",
    "\n",
    "    for root, subdirs, files in os.walk(SRC):\n",
    "        logging.info(f\"DIR: {root}  (subdirs: {len(subdirs)}, files: {len(files)})\")\n",
    "\n",
    "        for name in files:\n",
    "            full_path = os.path.join(root, name)\n",
    "            ext = os.path.splitext(name)[1].lower()\n",
    "\n",
    "            try:\n",
    "                size = os.path.getsize(full_path)\n",
    "            except Exception as e:\n",
    "                errors += 1\n",
    "                logging.error(f\"Failed to stat '{full_path}': {e}\")\n",
    "                continue\n",
    "\n",
    "            file_count += 1\n",
    "            per_ext_count[ext] += 1\n",
    "            per_ext_bytes[ext] += size\n",
    "\n",
    "            if LOG_LEVEL <= logging.DEBUG:\n",
    "                logging.debug(f\"SCAN: {full_path}  {human_size(size)}\")\n",
    "\n",
    "    # summary\n",
    "    print(\"\\n===== SUMMARY =====\")\n",
    "    print(f\"Total files: {file_count}\")\n",
    "    print(f\"Errors: {errors}\\n\")\n",
    "\n",
    "    if not per_ext_count:\n",
    "        print(\"No files found.\")\n",
    "        return\n",
    "\n",
    "    # sort by total bytes desc\n",
    "    rows = sorted(per_ext_count.keys(), key=lambda x: per_ext_bytes[x], reverse=True)\n",
    "    for ext in rows:\n",
    "        label = ext if ext else \"(no ext)\"\n",
    "        cnt = per_ext_count[ext]\n",
    "        total = per_ext_bytes[ext]\n",
    "        print(f\"{label:8}  files={cnt:6}  total={human_size(total):>8}\")\n",
    "\n",
    "    logging.info(\"Done.\")\n",
    "\n",
    "if __name__ == \"__main__\":\n",
    "    main()\n",
    "\n"
   ]
  },
  {
   "cell_type": "code",
   "execution_count": null,
   "id": "c5799510-d8f3-4b65-97c7-bd854bcf32d3",
   "metadata": {},
   "outputs": [],
   "source": []
  }
 ],
 "metadata": {
  "kernelspec": {
   "display_name": "Python [conda env:base] *",
   "language": "python",
   "name": "conda-base-py"
  },
  "language_info": {
   "codemirror_mode": {
    "name": "ipython",
    "version": 3
   },
   "file_extension": ".py",
   "mimetype": "text/x-python",
   "name": "python",
   "nbconvert_exporter": "python",
   "pygments_lexer": "ipython3",
   "version": "3.13.5"
  }
 },
 "nbformat": 4,
 "nbformat_minor": 5
}
