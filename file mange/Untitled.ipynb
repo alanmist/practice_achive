{
 "cells": [
  {
   "cell_type": "code",
   "execution_count": null,
   "id": "89c9d86e-d9aa-49a4-9f5e-894255ca9ca7",
   "metadata": {},
   "outputs": [],
   "source": [
    "import \n",
    "\n",
    "SRC = os.getcwd()  # or set an absolute path like r\"C:\\Users\\...\\Downloads\"\n",
    "DEST_BASE = r\"C:\\Users\\hswap\\OneDrive\\Desktop\\python\\file manage\\new file\"\n",
    "EXT_MAP = {\n",
    "    \".jpg\": \"images\",\n",
    "    \".jpeg\": \"images\",\n",
    "    \".png\": \"images\",\n",
    "    \".gif\": \"images\",\n",
    "    \".pdf\": \"documents\",\n",
    "    \".docx\": \"documents\",\n",
    "    \".doc\": \"documents\",\n",
    "    \".xls\": \"documents\",\n",
    "    \".xlsx\": \"documents\",\n",
    "    \".txt\": \"other\",\n",
    "    \".csv\": \"other\","
   ]
  },
  {
   "cell_type": "code",
   "execution_count": 11,
   "id": "9402c27e-460c-408b-a2d9-07a12b60d624",
   "metadata": {},
   "outputs": [
    {
     "name": "stdin",
     "output_type": "stream",
     "text": [
      "Please provide a sentence:  this is my life and i am a coder\n"
     ]
    },
    {
     "ename": "NameError",
     "evalue": "name 'sent' is not defined",
     "output_type": "error",
     "traceback": [
      "\u001b[1;31m---------------------------------------------------------------------------\u001b[0m",
      "\u001b[1;31mNameError\u001b[0m                                 Traceback (most recent call last)",
      "Cell \u001b[1;32mIn[11], line 27\u001b[0m\n\u001b[0;32m     13\u001b[0m stmt\u001b[38;5;241m=\u001b[39m\u001b[38;5;124m\"\"\"\u001b[39m\n\u001b[0;32m     14\u001b[0m \u001b[38;5;124meven_word()\u001b[39m\n\u001b[0;32m     15\u001b[0m \u001b[38;5;124m\"\"\"\u001b[39m\n\u001b[0;32m     16\u001b[0m set_ups\u001b[38;5;241m=\u001b[39m\u001b[38;5;124m\"\"\"\u001b[39m\n\u001b[0;32m     17\u001b[0m \u001b[38;5;124ment=input(\u001b[39m\u001b[38;5;124m'\u001b[39m\u001b[38;5;124mPlease provide a sentence: \u001b[39m\u001b[38;5;124m'\u001b[39m\u001b[38;5;124m)\u001b[39m\n\u001b[0;32m     18\u001b[0m \u001b[38;5;124mword=sent.split(\u001b[39m\u001b[38;5;124m'\u001b[39m\u001b[38;5;124m \u001b[39m\u001b[38;5;124m'\u001b[39m\u001b[38;5;124m)\u001b[39m\n\u001b[1;32m   (...)\u001b[0m\n\u001b[0;32m     25\u001b[0m \u001b[38;5;124mprint(even)\u001b[39m\n\u001b[0;32m     26\u001b[0m \u001b[38;5;124m\"\"\"\u001b[39m\n\u001b[1;32m---> 27\u001b[0m timeit\u001b[38;5;241m.\u001b[39mtimeit(stmt,set_ups,number\u001b[38;5;241m=\u001b[39m\u001b[38;5;241m100\u001b[39m)\n\u001b[0;32m     29\u001b[0m even_word()\n",
      "File \u001b[1;32m~\\anaconda3\\Lib\\timeit.py:237\u001b[0m, in \u001b[0;36mtimeit\u001b[1;34m(stmt, setup, timer, number, globals)\u001b[0m\n\u001b[0;32m    234\u001b[0m \u001b[38;5;28;01mdef\u001b[39;00m\u001b[38;5;250m \u001b[39m\u001b[38;5;21mtimeit\u001b[39m(stmt\u001b[38;5;241m=\u001b[39m\u001b[38;5;124m\"\u001b[39m\u001b[38;5;124mpass\u001b[39m\u001b[38;5;124m\"\u001b[39m, setup\u001b[38;5;241m=\u001b[39m\u001b[38;5;124m\"\u001b[39m\u001b[38;5;124mpass\u001b[39m\u001b[38;5;124m\"\u001b[39m, timer\u001b[38;5;241m=\u001b[39mdefault_timer,\n\u001b[0;32m    235\u001b[0m            number\u001b[38;5;241m=\u001b[39mdefault_number, \u001b[38;5;28mglobals\u001b[39m\u001b[38;5;241m=\u001b[39m\u001b[38;5;28;01mNone\u001b[39;00m):\n\u001b[0;32m    236\u001b[0m \u001b[38;5;250m    \u001b[39m\u001b[38;5;124;03m\"\"\"Convenience function to create Timer object and call timeit method.\"\"\"\u001b[39;00m\n\u001b[1;32m--> 237\u001b[0m     \u001b[38;5;28;01mreturn\u001b[39;00m Timer(stmt, setup, timer, \u001b[38;5;28mglobals\u001b[39m)\u001b[38;5;241m.\u001b[39mtimeit(number)\n",
      "File \u001b[1;32m~\\anaconda3\\Lib\\timeit.py:180\u001b[0m, in \u001b[0;36mTimer.timeit\u001b[1;34m(self, number)\u001b[0m\n\u001b[0;32m    178\u001b[0m gc\u001b[38;5;241m.\u001b[39mdisable()\n\u001b[0;32m    179\u001b[0m \u001b[38;5;28;01mtry\u001b[39;00m:\n\u001b[1;32m--> 180\u001b[0m     timing \u001b[38;5;241m=\u001b[39m \u001b[38;5;28mself\u001b[39m\u001b[38;5;241m.\u001b[39minner(it, \u001b[38;5;28mself\u001b[39m\u001b[38;5;241m.\u001b[39mtimer)\n\u001b[0;32m    181\u001b[0m \u001b[38;5;28;01mfinally\u001b[39;00m:\n\u001b[0;32m    182\u001b[0m     \u001b[38;5;28;01mif\u001b[39;00m gcold:\n",
      "File \u001b[1;32m<timeit-src>:5\u001b[0m, in \u001b[0;36minner\u001b[1;34m(_it, _timer)\u001b[0m\n",
      "\u001b[1;31mNameError\u001b[0m: name 'sent' is not defined"
     ]
    }
   ],
   "source": [
    "import timeit\n",
    "\n",
    "def even_word():\n",
    "    sent=input('Please provide a sentence: ')\n",
    "    word=sent.split(' ')\n",
    "    even=[]\n",
    "    print(word)\n",
    "    print(sent)\n",
    "    for i in word:\n",
    "        if len(i)%2==0:\n",
    "            even+=[i]\n",
    "    print(even)\n",
    "stmt=\"\"\"\n",
    "even_word()\n",
    "\"\"\"\n",
    "set_ups=\"\"\"\n",
    "ent=input('Please provide a sentence: ')\n",
    "word=sent.split(' ')\n",
    "even=[]\n",
    "print(word)\n",
    "print(sent)\n",
    "for i in word:\n",
    "    if len(i)%2==0:\n",
    "        even+=[i]\n",
    "print(even)\n",
    "\"\"\"\n",
    "timeit.timeit(stmt,set_ups,number=100)\n",
    "\n",
    "even_word()"
   ]
  },
  {
   "cell_type": "code",
   "execution_count": 22,
   "id": "2c2a6b1b-ded7-4821-8d86-613e16a2ae94",
   "metadata": {},
   "outputs": [
    {
     "name": "stdout",
     "output_type": "stream",
     "text": [
      "0.00014679995365440845\n"
     ]
    },
    {
     "name": "stdin",
     "output_type": "stream",
     "text": [
      "Please provide a sentence:  hi\n"
     ]
    },
    {
     "name": "stdout",
     "output_type": "stream",
     "text": [
      "['hi']\n"
     ]
    },
    {
     "name": "stdin",
     "output_type": "stream",
     "text": [
      "please provide something hi\n"
     ]
    },
    {
     "name": "stdout",
     "output_type": "stream",
     "text": [
      "['hi']\n",
      "0.0012535001151263714\n"
     ]
    }
   ],
   "source": [
    "import timeit\n",
    "\n",
    "def even_word(sent):\n",
    "    word = sent.split(' ')\n",
    "    even = []\n",
    "    for i in word:\n",
    "        if len(i) % 2 == 0:\n",
    "            even.append(i)\n",
    "    return even\n",
    "\n",
    "statment = \"\"\"\n",
    "even_word('This is a test sentence for timing')\n",
    "\"\"\"\n",
    "set_ups = \"\"\"\n",
    "from __main__ import even_word\n",
    "\"\"\"\n",
    "time_take = timeit.timeit(statment, set_ups, number=100)\n",
    "print(time_take)\n",
    "\n",
    "# For user interaction\n",
    "user_sent = input('Please provide a sentence: ')\n",
    "print(even_word(user_sent))\n",
    "sent=input('please provide something')\n",
    "words=sent.split(' ')\n",
    "even_words = list(filter(lambda i: len(i) % 2 == 0, words))  # Filter words with even length\n",
    "print(even_words)\n",
    "stmt=\"\"\"list(filter(lambda i: len(i) % 2 == 0, words)) \"\"\"\n",
    "set_up = \"\"\"\n",
    "words = 'This is a test sentence for timing'.split(' ')\n",
    "\"\"\"\n",
    "time_take2=timeit.timeit(stmt,set_up,number=1000)\n",
    "print(tiem_take2)"
   ]
  },
  {
   "cell_type": "code",
   "execution_count": 23,
   "id": "1aec8cf7-c848-4c76-97ba-5632427065b8",
   "metadata": {},
   "outputs": [
    {
     "name": "stdout",
     "output_type": "stream",
     "text": [
      "1.1546205000486225\n"
     ]
    },
    {
     "name": "stdin",
     "output_type": "stream",
     "text": [
      "Please provide a sentence:  hi\n"
     ]
    },
    {
     "name": "stdout",
     "output_type": "stream",
     "text": [
      "['hi']\n"
     ]
    },
    {
     "name": "stdin",
     "output_type": "stream",
     "text": [
      "please provide something hi\n"
     ]
    },
    {
     "name": "stdout",
     "output_type": "stream",
     "text": [
      "['hi']\n",
      "1.001725299982354\n"
     ]
    }
   ],
   "source": [
    "import timeit\n",
    "\n",
    "def even_word(sent):\n",
    "    word = sent.split(' ')\n",
    "    even = []\n",
    "    for i in word:\n",
    "        if len(i) % 2 == 0:\n",
    "            even.append(i)\n",
    "    return even\n",
    "\n",
    "statment = \"\"\"\n",
    "even_word('This is a test sentence for timing')\n",
    "\"\"\"\n",
    "set_ups = \"\"\"\n",
    "from __main__ import even_word\n",
    "\"\"\"\n",
    "time_take = timeit.timeit(statment, set_ups, number=1000000)\n",
    "print(time_take)\n",
    "\n",
    "# For user interaction\n",
    "user_sent = input('Please provide a sentence: ')\n",
    "print(even_word(user_sent))\n",
    "sent=input('please provide something')\n",
    "words=sent.split(' ')\n",
    "even_words = list(filter(lambda i: len(i) % 2 == 0, words))  # Filter words with even length\n",
    "print(even_words)\n",
    "stmt=\"\"\"list(filter(lambda i: len(i) % 2 == 0, words)) \"\"\"\n",
    "set_up = \"\"\"\n",
    "words = 'This is a test sentence for timing'.split(' ')\n",
    "\"\"\"\n",
    "time_take2=timeit.timeit(stmt,set_up,number=1000000)\n",
    "print(time_take2)"
   ]
  },
  {
   "cell_type": "code",
   "execution_count": null,
   "id": "6dcc0902-b714-4f92-bf61-b5c53239f0d4",
   "metadata": {},
   "outputs": [],
   "source": []
  }
 ],
 "metadata": {
  "kernelspec": {
   "display_name": "Python [conda env:base] *",
   "language": "python",
   "name": "conda-base-py"
  },
  "language_info": {
   "codemirror_mode": {
    "name": "ipython",
    "version": 3
   },
   "file_extension": ".py",
   "mimetype": "text/x-python",
   "name": "python",
   "nbconvert_exporter": "python",
   "pygments_lexer": "ipython3",
   "version": "3.13.5"
  }
 },
 "nbformat": 4,
 "nbformat_minor": 5
}
