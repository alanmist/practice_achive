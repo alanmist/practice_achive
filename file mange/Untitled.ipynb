{
 "cells": [
  {
   "cell_type": "code",
   "execution_count": null,
   "id": "89c9d86e-d9aa-49a4-9f5e-894255ca9ca7",
   "metadata": {},
   "outputs": [],
   "source": [
    "import \n",
    "\n",
    "SRC = os.getcwd()  # or set an absolute path like r\"C:\\Users\\...\\Downloads\"\n",
    "DEST_BASE = r\"C:\\Users\\hswap\\OneDrive\\Desktop\\python\\file manage\\new file\"\n",
    "EXT_MAP = {\n",
    "    \".jpg\": \"images\",\n",
    "    \".jpeg\": \"images\",\n",
    "    \".png\": \"images\",\n",
    "    \".gif\": \"images\",\n",
    "    \".pdf\": \"documents\",\n",
    "    \".docx\": \"documents\",\n",
    "    \".doc\": \"documents\",\n",
    "    \".xls\": \"documents\",\n",
    "    \".xlsx\": \"documents\",\n",
    "    \".txt\": \"other\",\n",
    "    \".csv\": \"other\","
   ]
  }
 ],
 "metadata": {
  "kernelspec": {
   "display_name": "Python [conda env:base] *",
   "language": "python",
   "name": "conda-base-py"
  },
  "language_info": {
   "codemirror_mode": {
    "name": "ipython",
    "version": 3
   },
   "file_extension": ".py",
   "mimetype": "text/x-python",
   "name": "python",
   "nbconvert_exporter": "python",
   "pygments_lexer": "ipython3",
   "version": "3.13.5"
  }
 },
 "nbformat": 4,
 "nbformat_minor": 5
}
