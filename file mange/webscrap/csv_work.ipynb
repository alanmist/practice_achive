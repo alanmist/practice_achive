{
 "cells": [
  {
   "cell_type": "code",
   "execution_count": 7,
   "id": "b8d77c63-a3fd-4b8d-9d9f-4279188e0706",
   "metadata": {},
   "outputs": [
    {
     "data": {
      "text/plain": [
       "[['name', 'age', 'city'],\n",
       " ['subhrangshu', '23', 'kolkata'],\n",
       " ['ram', '100', 'aydha']]"
      ]
     },
     "execution_count": 7,
     "metadata": {},
     "output_type": "execute_result"
    }
   ],
   "source": [
    "import csv\n",
    "\n",
    "\n",
    "file_output=open(r\"C:\\Users\\hswap\\OneDrive\\Desktop\\python\\actual code\\web_scraping\\working_with_csv\\people.csv\",mode='w',newline='')\n",
    "csv_writer=csv.writer(file_output,delimiter=',')\n",
    "csv_writer.writerow(['name','age','city'])\n",
    "csv_writer.writerows([['subhrangshu','23','kolkata'],['ram','100','aydha']])\n",
    "file_output.close()\n",
    "\n",
    "people_data=open(r\"C:\\Users\\hswap\\OneDrive\\Desktop\\python\\actual code\\web_scraping\\working_with_csv\\people.csv\",encoding=\"utf-8\")\n",
    "\n",
    "csv_data=csv.reader(people_data)\n",
    "\n",
    "data_line=list(csv_data)\n",
    "people_data.close()\n",
    "data_line"
   ]
  },
  {
   "cell_type": "code",
   "execution_count": 6,
   "id": "87911c99-fcc2-4453-923c-e3f1e9e032e0",
   "metadata": {
    "scrolled": true
   },
   "outputs": [
    {
     "data": {
      "text/plain": [
       "[['name', 'phone', 'city'],\n",
       " ['subhrangshu', '23242323', 'kolkata'],\n",
       " ['ram', '64663425', 'aydha'],\n",
       " ['sam', '2342432', 'kolkata'],\n",
       " ['tam', '234234', 'benaroash'],\n",
       " ['sam', '2342432', 'kolkata'],\n",
       " ['tam', '234234', 'benaroash']]"
      ]
     },
     "execution_count": 6,
     "metadata": {},
     "output_type": "execute_result"
    }
   ],
   "source": [
    "import csv\n",
    "\n",
    "# First, read the data\n",
    "with open(r\"C:\\Users\\hswap\\OneDrive\\Desktop\\python\\actual code\\web_scraping\\working_with_csv\\people.csv\", 'r', encoding=\"utf-8\") as people_data:\n",
    "    csv_data = csv.reader(people_data)\n",
    "    data_line = list(csv_data)  # Store the data\n",
    "\n",
    "# Close the file after reading\n",
    "# Now open the file for writing\n",
    "with open(r\"C:\\Users\\hswap\\OneDrive\\Desktop\\python\\actual code\\web_scraping\\working_with_csv\\people.csv\", 'w', newline='') as file_output:\n",
    "    csv_writer = csv.writer(file_output, delimiter=',')\n",
    "    csv_writer.writerow(['name', 'age', 'city'])\n",
    "    \n",
    "    # Fix: writerows takes a single list of rows, not multiple arguments\n",
    "    csv_writer.writerows([\n",
    "        ['subhrangshu', '23', 'kolkata'],\n",
    "        ['ram', '100', 'aydha']\n",
    "    ])\n",
    "\n",
    "# The file is automatically closed when exiting the 'with' block\n",
    "data_line  # Return the data that was read"
   ]
  },
  {
   "cell_type": "code",
   "execution_count": 16,
   "id": "297c7d96-bcaf-4539-9847-3505bb05f856",
   "metadata": {},
   "outputs": [
    {
     "name": "stdout",
     "output_type": "stream",
     "text": [
      "45\n",
      "25\n",
      "35\n"
     ]
    }
   ],
   "source": [
    "import csv\n",
    "from pathlib import Path\n",
    "\n",
    "BASE=Path(r\"C:\\Users\\hswap\\OneDrive\\Desktop\\python\\actual code\\web_scraping\\working_with_csv\")\n",
    "csv_path=BASE/\"humans.csv\"\n",
    "\n",
    "with open(csv_path, mode='w',newline='',encoding='utf-8') as f:\n",
    "    write=csv.writer(f)\n",
    "    write.writerows([\n",
    "        ['subhrangshu','24','kolkata'],\n",
    "        ['tam', '45','benaroash'],\n",
    "        ['santanu','25','pandua'],\n",
    "        ['kam','35','hooghly'],\n",
    "        \n",
    "    ])\n",
    "with open(csv_path,encoding='utf-8')as f:\n",
    "    reader=csv.reader(f)\n",
    "    for row in reader:\n",
    "        if int(row[1])>=25:\n",
    "            print(row[1])\n",
    "        \n",
    "        \n"
   ]
  },
  {
   "cell_type": "code",
   "execution_count": 13,
   "id": "04bbe0f6-662a-4965-b6ee-76c17973d616",
   "metadata": {},
   "outputs": [
    {
     "name": "stdout",
     "output_type": "stream",
     "text": [
      "100\n",
      "32\n",
      "45\n"
     ]
    }
   ],
   "source": [
    "with open(csv_path,encoding='utf-8')as f:\n",
    "    reader=csv.reader(f)\n",
    "    next(reader)\n",
    "    for row in reader:\n",
    "        if int(row[1])>25:\n",
    "            print(row[1])"
   ]
  },
  {
   "cell_type": "code",
   "execution_count": null,
   "id": "09f00aac-e6d3-4f57-b5d7-342fb063d19c",
   "metadata": {},
   "outputs": [],
   "source": []
  }
 ],
 "metadata": {
  "kernelspec": {
   "display_name": "Python (conda: notebook)",
   "language": "python",
   "name": "notebook"
  },
  "language_info": {
   "codemirror_mode": {
    "name": "ipython",
    "version": 3
   },
   "file_extension": ".py",
   "mimetype": "text/x-python",
   "name": "python",
   "nbconvert_exporter": "python",
   "pygments_lexer": "ipython3",
   "version": "3.12.11"
  }
 },
 "nbformat": 4,
 "nbformat_minor": 5
}
