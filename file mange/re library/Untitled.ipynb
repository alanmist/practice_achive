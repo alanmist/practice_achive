{
 "cells": [
  {
   "cell_type": "code",
   "execution_count": 18,
   "id": "f1c711a6-4d7f-4543-9dcc-2a9d4e5aa5b5",
   "metadata": {},
   "outputs": [
    {
     "name": "stdout",
     "output_type": "stream",
     "text": [
      "['support@mail.com', 'sales123@shop.co.uk', 'admin@site.org']\n"
     ]
    }
   ],
   "source": [
    "import re\n",
    "text= 'Contact us at support@mail.com, sales123@shop.co.uk, or admin@site.org.'\n",
    "result=re.findall(r\"\\w+@\\w+.\\w+.\\w+\",text)\n",
    "print(result)\n"
   ]
  },
  {
   "cell_type": "code",
   "execution_count": 3,
   "id": "8d3fdfba-15de-47c3-842b-f31666279865",
   "metadata": {},
   "outputs": [
    {
     "data": {
      "text/plain": [
       "['5', '10.5', '300', '42.00']"
      ]
     },
     "execution_count": 3,
     "metadata": {},
     "output_type": "execute_result"
    }
   ],
   "source": [
    "import re\n",
    "prices= \"prices: '5', '10.5','300',42.00\"\n",
    "fine=re.findall(r\"\\d+\\.\\d+|\\d+\",prices)\n",
    "fine\n"
   ]
  },
  {
   "cell_type": "code",
   "execution_count": 2,
   "id": "f2b4f77d-dd7e-4de2-853d-c91e7f2366d1",
   "metadata": {},
   "outputs": [
    {
     "name": "stdout",
     "output_type": "stream",
     "text": [
      "['5', '10.5', '300', '42.00']\n"
     ]
    }
   ],
   "source": [
    "import re\n",
    "prices = \"prices: '5', '10.5','300',42.00\"\n",
    "# Fixed regex pattern:\n",
    "# \\d+\\.\\d+ matches decimal numbers (like 10.5, 42.00)\n",
    "# \\d+ matches whole numbers (like 5, 300)\n",
    "# The | operator means \"or\"\n",
    "fine = re.findall(r\"\\d+\\.\\d+|\\d+\", prices)\n",
    "print(fine)"
   ]
  },
  {
   "cell_type": "code",
   "execution_count": 31,
   "id": "a7a00f10-a856-4384-844b-822520776a80",
   "metadata": {},
   "outputs": [
    {
     "name": "stdout",
     "output_type": "stream",
     "text": [
      "['05/09/2025', '06/09/2025', '12/12/1999']\n"
     ]
    }
   ],
   "source": [
    "import re\n",
    "text=\"Today is 05/09/2025, tomorrow 06/09/2025, my birthday 12/12/1999.\"\n",
    "date=re.findall(r'\\b\\d{2}/\\d{2}/\\d{4}\\b',text)\n",
    "print(date)\n"
   ]
  },
  {
   "cell_type": "code",
   "execution_count": 29,
   "id": "ab13b743-4ba5-4051-ae55-f89752aafdca",
   "metadata": {},
   "outputs": [
    {
     "name": "stdout",
     "output_type": "stream",
     "text": [
      "['Hello world!', ' How are you?', \" I'm fine.\", \" Let's go.\"]\n"
     ]
    }
   ],
   "source": [
    "\n",
    "import re\n",
    "text=\"Hello world! How are you? I'm fine. Let's go.\"\n",
    "\n",
    "char=re.findall(r\"[^.!?]+[.!?]\",text.strip())\n",
    "print(char)"
   ]
  },
  {
   "cell_type": "code",
   "execution_count": null,
   "id": "62bd418b-4b6a-4bec-a80b-83f0631394d1",
   "metadata": {},
   "outputs": [],
   "source": []
  }
 ],
 "metadata": {
  "kernelspec": {
   "display_name": "Python (conda: notebook)",
   "language": "python",
   "name": "notebook"
  },
  "language_info": {
   "codemirror_mode": {
    "name": "ipython",
    "version": 3
   },
   "file_extension": ".py",
   "mimetype": "text/x-python",
   "name": "python",
   "nbconvert_exporter": "python",
   "pygments_lexer": "ipython3",
   "version": "3.12.11"
  }
 },
 "nbformat": 4,
 "nbformat_minor": 5
}
