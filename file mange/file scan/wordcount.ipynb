{
 "cells": [
  {
   "cell_type": "code",
   "execution_count": 39,
   "id": "b8a49c96-a1ea-46b7-b9db-897ddf123f09",
   "metadata": {},
   "outputs": [
    {
     "name": "stdout",
     "output_type": "stream",
     "text": [
      "[('is', 16), ('s', 12), ('dv', 12), ('in', 9), ('Lrd', 8), ('Arjun', 8), ('nd', 8), ('b', 8), ('ws', 6), ('i', 6), ('BgvdgÃ©Ã¤', 5), ('n', 5), ('r', 5), ('His', 5), ('On', 5), ('my', 5), ('im', 4), ('H', 4), ('sungd', 3), ('by', 3), ('succssin', 3), ('bcus', 3), ('rind', 3), ('T', 3), ('dirc', 3), ('rlinsip', 3), ('wi', 3), ('Hr', 2), ('sysm', 2), ('yg', 2), ('irs', 2), ('xplind', 2), ('Mnu', 2), ('disciplic', 2), ('nr', 2), ('cming', 2), ('dwn', 2), ('bcm', 2), ('ls', 2), ('lls', 2), ('spcilly', 2), ('nw', 2), ('prmprÃ¤', 2), ('wis', 2), ('w', 2), ('inrms', 1), ('spkn', 1), ('IkÃ±vÃ¤ku', 1), ('wy', 1), ('spkr', 1), ('bn', 1), ('Bu', 1), ('curs', 1), ('Cnsqunly', 1), ('spk', 1), ('gin', 1), ('Blild', 1), ('KurukÃ±r', 1), ('rling', 1), ('suprm', 1), ('scr', 1), ('purpr', 1), ('ris', 1), ('wic', 1), ('mn', 1), ('Tr', 1), ('clsss', 1), ('rnscndnliss', 1), ('nmly', 1), ('jÃ¯Ã¤nÃ©', 1), ('ygÃ©', 1), ('bk', 1), ('imprsnlis', 1), ('mdir', 1), ('clrly', 1), ('mking', 1), ('rcivr', 1), ('ld', 1), ('brkn', 1), ('I', 1), ('Lrdâ€™s', 1), ('rr', 1), ('sblis', 1), ('sm', 1), ('lin', 1), ('ug', 1), ('rm', 1), ('rs', 1), ('cing', 1), ('disribud', 1), ('wnd', 1), ('uriy', 1), ('undrsnding', 1), ('S', 1), ('insrucd', 1), ('sudn', 1), ('KÃ¥Ã±Ã«', 1), ('inim', 1), ('Trr', 1), ('bs', 1), ('undrsd', 1), ('prsn', 1), ('quliis', 1), ('similr', 1), ('Arjunâ€™s', 1), ('sy', 1), ('mus', 1), ('As', 1), ('sn', 1), ('bcms', 1), ('vry', 1), ('lbr', 1), ('subjc', 1), ('mr', 1), ('bu', 1), ('brily', 1), ('cn', 1), ('sd', 1), ('Suprm', 1), ('Prsnliy', 1), ('Gdd', 1), ('iv', 1), ('dirn', 1), ('wys', 1), ('1', 1), ('pssiv', 1), ('2', 1), ('civ', 1), ('3', 1), ('4', 1), ('prn', 1), ('5', 1), ('cnjugl', 1), ('lvr', 1)]\n"
     ]
    }
   ],
   "source": [
    "import collections\n",
    "book=open(r'C:\\Users\\hswap\\OneDrive\\Desktop\\python\\actual code\\advance module\\chaper1','r')\n",
    "line=book.read()\n",
    "chars_to_remove = set(',.!?;:\"\\'-_()[]{}the,a,of')\n",
    "sentence = ''.join(char for char in line if char not in chars_to_remove)\n",
    "word=sentence.split()\n",
    "\n",
    "book.close()\n",
    "char_count = collections.Counter(word)\n",
    "print(char_count.most_common())\n",
    "\n",
    "\n",
    "\n"
   ]
  },
  {
   "cell_type": "code",
   "execution_count": 40,
   "id": "0fe7ab83-d32c-4852-b8b7-feced8103429",
   "metadata": {},
   "outputs": [
    {
     "name": "stdout",
     "output_type": "stream",
     "text": [
      "Top 20 most common words:\n",
      "devotee: 12\n",
      "lord: 8\n",
      "arjuna: 8\n",
      "one: 8\n",
      "be: 8\n",
      "he: 7\n",
      "this: 5\n",
      "bhagavadgã©tã¤: 5\n",
      "has: 5\n",
      "his: 5\n",
      "as: 5\n",
      "may: 5\n",
      "sungod: 3\n",
      "by: 3\n",
      "succession: 3\n",
      "because: 3\n",
      "friend: 3\n",
      "direct: 3\n",
      "relationship: 3\n",
      "with: 3\n",
      "Total unique words: 136\n"
     ]
    }
   ],
   "source": [
    "import collections\n",
    "\n",
    "\n",
    "book = open(r'C:\\Users\\hswap\\OneDrive\\Desktop\\python\\actual code\\advance module\\chaper1', 'r')\n",
    "line = book.read()\n",
    "\n",
    "\n",
    "chars_to_remove = set(',.!?;:\"\\'-_()[]{}')\n",
    "cleaned_text = ''.join(char for char in line if char not in chars_to_remove)\n",
    "\n",
    "\n",
    "words = cleaned_text.split()\n",
    "\n",
    "\n",
    "stopwords = {'the', 'a', 'of', 'and', 'to', 'in', 'is', 'it', 'that', 'was'}\n",
    "\n",
    "\n",
    "filtered_words = [word.lower() for word in words if word.lower() not in stopwords]\n",
    "\n",
    "\n",
    "book.close()\n",
    "\n",
    "\n",
    "word_count = collections.Counter(filtered_words)\n",
    "\n",
    "print(\"Top 20 most common words:\")\n",
    "for word, count in word_count.most_common(20):\n",
    "    print(f\"{word}: {count}\")\n",
    "\n",
    "print(\"Total unique words:\", len(word_count))"
   ]
  },
  {
   "cell_type": "code",
   "execution_count": 41,
   "id": "8e91dc85-294c-4128-b7ab-529ff2188947",
   "metadata": {},
   "outputs": [
    {
     "name": "stdout",
     "output_type": "stream",
     "text": [
      "Top 20 most common words:\n",
      "devotee: 12\n",
      "lord: 9\n",
      "arjuna: 9\n",
      "one: 8\n",
      "be: 8\n",
      "he: 7\n",
      "this: 5\n",
      "bhagavad: 5\n",
      "gétä: 5\n",
      "has: 5\n",
      "his: 5\n",
      "as: 5\n",
      "may: 5\n",
      "sun: 3\n",
      "god: 3\n",
      "by: 3\n",
      "succession: 3\n",
      "because: 3\n",
      "friend: 3\n",
      "direct: 3\n",
      "Total unique words: 137\n"
     ]
    }
   ],
   "source": [
    "import collections\n",
    "import re\n",
    "\n",
    "stopwords = {'the', 'a', 'of', 'and', 'to', 'in', 'is', 'it', 'that', 'was'}\n",
    "\n",
    "with open(r\"C:\\Users\\hswap\\OneDrive\\Desktop\\python\\actual code\\advance module\\chaper1\", \"r\", encoding=\"utf-8\") as book:\n",
    "    text = book.read().lower()\n",
    "\n",
    "# regex finds only word characters\n",
    "words = re.findall(r\"\\b\\w+\\b\", text)\n",
    "filtered = [w for w in words if w not in stopwords]\n",
    "\n",
    "word_count = collections.Counter(filtered)\n",
    "\n",
    "print(\"Top 20 most common words:\")\n",
    "for word, count in word_count.most_common(20):\n",
    "    print(f\"{word}: {count}\")\n",
    "\n",
    "print(\"Total unique words:\", len(word_count))\n"
   ]
  },
  {
   "cell_type": "code",
   "execution_count": null,
   "id": "4b4dc13d-3833-452c-a6e7-86cd3beffcff",
   "metadata": {},
   "outputs": [],
   "source": []
  }
 ],
 "metadata": {
  "kernelspec": {
   "display_name": "Python [conda env:base] *",
   "language": "python",
   "name": "conda-base-py"
  },
  "language_info": {
   "codemirror_mode": {
    "name": "ipython",
    "version": 3
   },
   "file_extension": ".py",
   "mimetype": "text/x-python",
   "name": "python",
   "nbconvert_exporter": "python",
   "pygments_lexer": "ipython3",
   "version": "3.13.5"
  }
 },
 "nbformat": 4,
 "nbformat_minor": 5
}
