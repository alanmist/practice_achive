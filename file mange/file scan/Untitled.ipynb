{
 "cells": [
  {
   "cell_type": "code",
   "execution_count": 69,
   "id": "ddc3d556-d1f4-4aac-8541-78d6b7a085a5",
   "metadata": {},
   "outputs": [],
   "source": [
    "from collections import deque\n",
    "import random\n",
    "import time\n",
    "\n",
    "\n",
    "number=deque(range(9))\n",
    "def adding():\n",
    "    global time\n",
    "    global number\n",
    "    \n",
    "    if random.random()<.3:\n",
    "        \n",
    "        number.append(1)\n",
    "        if number:\n",
    "        \n",
    "        print(number)\n",
    "    else:\n",
    "    \n",
    "        print(\"not yet\")\n",
    "    \n",
    "    print(time)\n",
    "    \n",
    "        \n",
    "\n"
   ]
  },
  {
   "cell_type": "code",
   "execution_count": 78,
   "id": "9f93ea3a-8b93-4bb2-81db-7275cf1a40f9",
   "metadata": {},
   "outputs": [
    {
     "name": "stdout",
     "output_type": "stream",
     "text": [
      "deque([0, 1, 2, 3, 4, 5, 6, 7, 8, 1, 1])\n",
      "1\n"
     ]
    }
   ],
   "source": [
    "adding()"
   ]
  },
  {
   "cell_type": "code",
   "execution_count": null,
   "id": "ea2ed765-387b-4706-a2cf-c69ec5ac5abd",
   "metadata": {},
   "outputs": [],
   "source": []
  },
  {
   "cell_type": "code",
   "execution_count": null,
   "id": "738da4d5-81ea-470c-aded-d7f08dc8257a",
   "metadata": {},
   "outputs": [],
   "source": []
  }
 ],
 "metadata": {
  "kernelspec": {
   "display_name": "Python [conda env:base] *",
   "language": "python",
   "name": "conda-base-py"
  },
  "language_info": {
   "codemirror_mode": {
    "name": "ipython",
    "version": 3
   },
   "file_extension": ".py",
   "mimetype": "text/x-python",
   "name": "python",
   "nbconvert_exporter": "python",
   "pygments_lexer": "ipython3",
   "version": "3.13.5"
  }
 },
 "nbformat": 4,
 "nbformat_minor": 5
}
