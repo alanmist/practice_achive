{
 "cells": [
  {
   "cell_type": "code",
   "execution_count": 1,
   "id": "caefeb36-6a37-478d-9691-6e6cb6c10326",
   "metadata": {},
   "outputs": [
    {
     "name": "stdout",
     "output_type": "stream",
     "text": [
      "--Return--\n",
      "None\n",
      "> \u001b[32mc:\\users\\hswap\\appdata\\local\\temp\\ipykernel_39900\\1814168855.py\u001b[39m(\u001b[92m6\u001b[39m)\u001b[36m<module>\u001b[39m\u001b[34m()\u001b[39m\n",
      "\n"
     ]
    },
    {
     "name": "stdin",
     "output_type": "stream",
     "text": [
      "ipdb>  x+y\n"
     ]
    },
    {
     "name": "stdout",
     "output_type": "stream",
     "text": [
      "*** TypeError: can only concatenate list (not \"int\") to list\n"
     ]
    },
    {
     "name": "stdin",
     "output_type": "stream",
     "text": [
      "ipdb>  y\n"
     ]
    },
    {
     "name": "stdout",
     "output_type": "stream",
     "text": [
      "2\n"
     ]
    },
    {
     "name": "stdin",
     "output_type": "stream",
     "text": [
      "ipdb>  x\n"
     ]
    },
    {
     "name": "stdout",
     "output_type": "stream",
     "text": [
      "[1, 2, 3]\n"
     ]
    },
    {
     "name": "stdin",
     "output_type": "stream",
     "text": [
      "ipdb>  f\n"
     ]
    },
    {
     "name": "stdout",
     "output_type": "stream",
     "text": [
      "*** NameError: name 'f' is not defined\n"
     ]
    },
    {
     "name": "stdin",
     "output_type": "stream",
     "text": [
      "ipdb>  1\n"
     ]
    },
    {
     "name": "stdout",
     "output_type": "stream",
     "text": [
      "1\n"
     ]
    },
    {
     "name": "stdin",
     "output_type": "stream",
     "text": [
      "ipdb>  q\n"
     ]
    }
   ],
   "source": [
    "import pdb\n",
    "x=[1,2,3]\n",
    "y=2\n",
    "z=3\n",
    "result_one=y+z\n",
    "pdb.set_trace()\n",
    "result_two=x+z\n"
   ]
  },
  {
   "cell_type": "code",
   "execution_count": 19,
   "id": "8c96787c-5814-4424-9b4a-f9e7097538f2",
   "metadata": {},
   "outputs": [
    {
     "name": "stdout",
     "output_type": "stream",
     "text": [
      "(5, 6)\n",
      "{'x': 34, 'y': 34}\n"
     ]
    },
    {
     "data": {
      "text/plain": [
       "79"
      ]
     },
     "execution_count": 19,
     "metadata": {},
     "output_type": "execute_result"
    }
   ],
   "source": [
    "import pdb\n",
    "class Calculator():\n",
    "\n",
    "    def __init__(self, *args, **kwargs):\n",
    "        self.args=args\n",
    "        self.kwargs=kwargs\n",
    "\n",
    "    def add(self):\n",
    "        args_sum=sum(self.args)\n",
    "        kwargs_sum=sum(self.kwargs.values())\n",
    "        print(self.args)\n",
    "        print(self.kwargs)\n",
    "        return args_sum+kwargs_sum\n",
    "\n",
    "\n",
    "cal=Calculator(5,6,x=34,y=34)\n",
    "cal.add()\n",
    "\n"
   ]
  },
  {
   "cell_type": "code",
   "execution_count": 17,
   "id": "e0af8950-1c87-46fc-aaf0-fff894226f56",
   "metadata": {},
   "outputs": [
    {
     "ename": "TypeError",
     "evalue": "unsupported operand type(s) for +: 'int' and 'str'",
     "output_type": "error",
     "traceback": [
      "\u001b[31m---------------------------------------------------------------------------\u001b[39m",
      "\u001b[31mTypeError\u001b[39m                                 Traceback (most recent call last)",
      "\u001b[36mCell\u001b[39m\u001b[36m \u001b[39m\u001b[32mIn[17]\u001b[39m\u001b[32m, line 2\u001b[39m\n\u001b[32m      1\u001b[39m cal=Calculator(\u001b[32m5\u001b[39m,\u001b[32m6\u001b[39m,x=\u001b[32m10\u001b[39m,y=\u001b[32m2\u001b[39m)\n\u001b[32m----> \u001b[39m\u001b[32m2\u001b[39m cal.add()\n",
      "\u001b[36mCell\u001b[39m\u001b[36m \u001b[39m\u001b[32mIn[16]\u001b[39m\u001b[32m, line 10\u001b[39m, in \u001b[36mCalculator.add\u001b[39m\u001b[34m(self)\u001b[39m\n\u001b[32m      8\u001b[39m \u001b[38;5;28;01mdef\u001b[39;00m\u001b[38;5;250m \u001b[39m\u001b[34madd\u001b[39m(\u001b[38;5;28mself\u001b[39m):\n\u001b[32m      9\u001b[39m     args_sum=\u001b[38;5;28msum\u001b[39m(\u001b[38;5;28mself\u001b[39m.args)\n\u001b[32m---> \u001b[39m\u001b[32m10\u001b[39m     kwargs_sum=\u001b[38;5;28msum\u001b[39m(\u001b[38;5;28mself\u001b[39m.kwargs)\n\u001b[32m     11\u001b[39m     \u001b[38;5;28mprint\u001b[39m(\u001b[38;5;28mself\u001b[39m.args)\n\u001b[32m     12\u001b[39m     \u001b[38;5;28mprint\u001b[39m(\u001b[38;5;28mself\u001b[39m.kwargs)\n",
      "\u001b[31mTypeError\u001b[39m: unsupported operand type(s) for +: 'int' and 'str'"
     ]
    }
   ],
   "source": [
    "cal=Calculator(5,6,x=10,y=2)\n",
    "cal.add()"
   ]
  },
  {
   "cell_type": "code",
   "execution_count": null,
   "id": "5bd5ce10-05cb-4133-8208-63fc6a9a1d5a",
   "metadata": {},
   "outputs": [],
   "source": []
  },
  {
   "cell_type": "code",
   "execution_count": 31,
   "id": "bf1b9779-1253-4b85-85e6-f8e00cc88317",
   "metadata": {},
   "outputs": [
    {
     "data": {
      "text/plain": [
       "77"
      ]
     },
     "execution_count": 31,
     "metadata": {},
     "output_type": "execute_result"
    }
   ],
   "source": [
    "import pdb\n",
    "class Calculator():\n",
    "\n",
    "    def __init__(self, *args):\n",
    "        self.args=args\n",
    "    \n",
    "\n",
    "    def add(self):\n",
    "        addition=0\n",
    "        for number in self.args:\n",
    "            addition +=number\n",
    "        return addition\n",
    "        \n",
    "cal=Calculator(23,54)\n",
    "cal.add()\n"
   ]
  },
  {
   "cell_type": "code",
   "execution_count": 15,
   "id": "3b64e22f-570b-4f88-b52c-d110a4139122",
   "metadata": {},
   "outputs": [
    {
     "name": "stdout",
     "output_type": "stream",
     "text": [
      "-1\n"
     ]
    },
    {
     "ename": "ZeroDivisionError",
     "evalue": "division by zero",
     "output_type": "error",
     "traceback": [
      "\u001b[31m---------------------------------------------------------------------------\u001b[39m",
      "\u001b[31mZeroDivisionError\u001b[39m                         Traceback (most recent call last)",
      "\u001b[36mCell\u001b[39m\u001b[36m \u001b[39m\u001b[32mIn[15]\u001b[39m\u001b[32m, line 56\u001b[39m\n\u001b[32m     53\u001b[39m \u001b[38;5;28mprint\u001b[39m(c)\n\u001b[32m     55\u001b[39m div1=Calculator(\u001b[32m3\u001b[39m,\u001b[32m0\u001b[39m)\n\u001b[32m---> \u001b[39m\u001b[32m56\u001b[39m div=div1.devision()\n\u001b[32m     57\u001b[39m \u001b[38;5;28mprint\u001b[39m(div)\n",
      "\u001b[36mCell\u001b[39m\u001b[36m \u001b[39m\u001b[32mIn[15]\u001b[39m\u001b[32m, line 32\u001b[39m, in \u001b[36mCalculator.devision\u001b[39m\u001b[34m(self)\u001b[39m\n\u001b[32m     29\u001b[39m \u001b[38;5;66;03m# Divide by each subsequent number\u001b[39;00m\n\u001b[32m     30\u001b[39m \u001b[38;5;28;01mfor\u001b[39;00m i \u001b[38;5;129;01min\u001b[39;00m \u001b[38;5;28mrange\u001b[39m(\u001b[32m1\u001b[39m, \u001b[38;5;28mlen\u001b[39m(\u001b[38;5;28mself\u001b[39m.args)):\n\u001b[32m     31\u001b[39m     \u001b[38;5;66;03m#pdb.set_trace()\u001b[39;00m\n\u001b[32m---> \u001b[39m\u001b[32m32\u001b[39m     result /= \u001b[38;5;28mself\u001b[39m.args[i]\n\u001b[32m     33\u001b[39m \u001b[38;5;28;01mreturn\u001b[39;00m result\n",
      "\u001b[31mZeroDivisionError\u001b[39m: division by zero"
     ]
    }
   ],
   "source": [
    "import pdb\n",
    "class Calculator():\n",
    "\n",
    "    def __init__(self, *args):\n",
    "        self.args=args\n",
    "    \n",
    "\n",
    "    def add(self):\n",
    "        addition=0\n",
    "        for number in self.args:\n",
    "            #pdb.set_trace()\n",
    "            addition +=number\n",
    "        return addition\n",
    "    def multiply(self):\n",
    "        number=1\n",
    "        for num in self.args:\n",
    "            #pdb.set_trace()\n",
    "            number *=num\n",
    "        return number\n",
    "    def devision(self):\n",
    "        # Start with the first number\n",
    "        if len(self.args) < 2:\n",
    "            return self.args[0] if self.args else 0\n",
    "            #pdb.set_trace()\n",
    "        \n",
    "        # Initialize result with the first number\n",
    "        result = self.args[0]\n",
    "        \n",
    "        # Divide by each subsequent number\n",
    "        for i in range(1, len(self.args)):\n",
    "            #pdb.set_trace()\n",
    "            result /= self.args[i]\n",
    "        return result\n",
    "        \n",
    "    def subtraction(self):\n",
    "        if len(self.args)<2:\n",
    "            if self.args:\n",
    "            \n",
    "                return self.args[0]\n",
    "            else:\n",
    "                return 0\n",
    "        result=self.args[0]\n",
    "        for i in range(1,len(self.args)):\n",
    "            #pdb.set_trace()\n",
    "            result-=self.args[i]\n",
    "            \n",
    "        return result\n",
    "    \n",
    "\n",
    "cal=Calculator(4,2,3)\n",
    "\n",
    "c=cal.subtraction()\n",
    "print(c)\n",
    "\n",
    "div1=Calculator(3,0)\n",
    "div=div1.devision()\n",
    "print(div)"
   ]
  },
  {
   "cell_type": "code",
   "execution_count": null,
   "id": "b38940b6-c96b-4031-92be-289114169190",
   "metadata": {},
   "outputs": [],
   "source": []
  }
 ],
 "metadata": {
  "kernelspec": {
   "display_name": "Python (conda: notebook)",
   "language": "python",
   "name": "notebook"
  },
  "language_info": {
   "codemirror_mode": {
    "name": "ipython",
    "version": 3
   },
   "file_extension": ".py",
   "mimetype": "text/x-python",
   "name": "python",
   "nbconvert_exporter": "python",
   "pygments_lexer": "ipython3",
   "version": "3.12.11"
  }
 },
 "nbformat": 4,
 "nbformat_minor": 5
}
